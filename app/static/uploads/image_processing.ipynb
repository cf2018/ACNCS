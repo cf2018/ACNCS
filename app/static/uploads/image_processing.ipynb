{
 "cells": [
  {
   "cell_type": "code",
   "execution_count": 39,
   "id": "34bef033",
   "metadata": {},
   "outputs": [],
   "source": [
    "import cv2\n",
    "import numpy as np\n",
    "import matplotlib.pyplot as plt\n",
    "from scipy.interpolate import UnivariateSpline"
   ]
  },
  {
   "cell_type": "code",
   "execution_count": 23,
   "id": "49b629fe",
   "metadata": {},
   "outputs": [
    {
     "name": "stdout",
     "output_type": "stream",
     "text": [
      "chamber1.png\t\t IMG-20250315-WA0008.jpg\t  processed\r\n",
      "image_processing.ipynb\t IMG-20250316-WA0009_editada.jpg\r\n",
      "IMG-20250315-WA0007.jpg  IMG-20250316-WA0009.jpg\r\n"
     ]
    }
   ],
   "source": [
    "!ls"
   ]
  },
  {
   "cell_type": "code",
   "execution_count": 29,
   "id": "eb0cabfb",
   "metadata": {},
   "outputs": [],
   "source": []
  },
  {
   "cell_type": "code",
   "execution_count": 42,
   "id": "a70ecd31",
   "metadata": {},
   "outputs": [
    {
     "name": "stderr",
     "output_type": "stream",
     "text": [
      "/usr/lib/python3/dist-packages/IPython/core/interactiveshell.py:3457: RankWarning: Polyfit may be poorly conditioned\n",
      "  exec(code_obj, self.user_global_ns, self.user_ns)\n"
     ]
    },
    {
     "data": {
      "text/plain": [
       "'\\n# Display the original, edge-detected, and Hough line-detected images\\nplt.figure(figsize=(15, 7))\\n\\nplt.subplot(1, 3, 1)\\nplt.imshow(cv2.cvtColor(image, cv2.COLOR_BGR2RGB))\\nplt.title(\"Original Image\")\\nplt.axis(\\'off\\')\\n\\nplt.subplot(1, 3, 2)\\nplt.imshow(edges, cmap=\\'gray\\')\\nplt.title(\"Canny Edge Detection\")\\nplt.axis(\\'off\\')\\n\\nplt.subplot(1, 3, 3)\\nplt.imshow(cv2.cvtColor(image_with_lines, cv2.COLOR_BGR2RGB))\\nplt.title(\"Hough Line Detection\")\\nplt.axis(\\'off\\')\\n\\nplt.show()\\n'"
      ]
     },
     "execution_count": 42,
     "metadata": {},
     "output_type": "execute_result"
    }
   ],
   "source": [
    "\n",
    "img = cv2.imread('IMG-20250316-WA0009_editada.jpg')\n",
    "\n",
    "if img is None:\n",
    "    print(\"Error: Image not found.\")\n",
    "else:\n",
    "    # Convert to HSV for better yellow color detection\n",
    "    hsv = cv2.cvtColor(img, cv2.COLOR_BGR2HSV)\n",
    "\n",
    "    # Define the range for yellow color in HSV space\n",
    "    lower_yellow = np.array([20, 100, 100])  # Lower range of yellow\n",
    "    upper_yellow = np.array([40, 255, 255])  # Upper range of yellow\n",
    "\n",
    "    # Create a mask to extract yellow parts\n",
    "    yellow_mask = cv2.inRange(hsv, lower_yellow, upper_yellow)\n",
    "\n",
    "    # Apply morphological closing to fill gaps and connect small segments\n",
    "    kernel = np.ones((5, 5), np.uint8)\n",
    "    yellow_mask = cv2.morphologyEx(yellow_mask, cv2.MORPH_CLOSE, kernel)\n",
    "\n",
    "    # Find contours from the yellow mask\n",
    "    contours, _ = cv2.findContours(yellow_mask, cv2.RETR_EXTERNAL, cv2.CHAIN_APPROX_SIMPLE)\n",
    "\n",
    "    # Iterate through each contour\n",
    "    for contour in contours:\n",
    "        # Check if the contour has enough points to fit a polynomial\n",
    "        if len(contour) >= 5:  # A minimum of 5 points for fitting\n",
    "            # Get the x and y coordinates of the contour points\n",
    "            contour_points = contour.reshape(-1, 2)  # Reshape to a 2D array for fitting\n",
    "            x = contour_points[:, 0]\n",
    "            y = contour_points[:, 1]\n",
    "\n",
    "            # Fit a 3rd-degree polynomial (cubic) to the contour points\n",
    "            # You can adjust this degree based on the complexity of the curve\n",
    "            poly_coeff = np.polyfit(x, y, 3)  # Fit cubic polynomial (degree 3)\n",
    "\n",
    "            # Create the polynomial function from the coefficients\n",
    "            poly_func = np.poly1d(poly_coeff)\n",
    "\n",
    "            # Generate the smooth fitted curve (x range for plotting)\n",
    "            x_fit = np.linspace(min(x), max(x), 1000)  # Generate 1000 points between min and max x\n",
    "            y_fit = poly_func(x_fit)  # Get the corresponding y values from the polynomial\n",
    "\n",
    "            # Draw the fitted curve on the image\n",
    "            for i in range(1, len(x_fit)):\n",
    "                cv2.line(img, (int(x_fit[i - 1]), int(y_fit[i - 1])),\n",
    "                         (int(x_fit[i]), int(y_fit[i])), (0, 0, 255), 2)  # Red color\n",
    "\n",
    "    # Show the result\n",
    "    cv2.imshow('Smoothed Yellow Arced Lines', img)\n",
    "    cv2.waitKey(0)\n",
    "    cv2.destroyAllWindows()\n",
    "\n",
    "\n",
    "'''\n",
    "# Display the original, edge-detected, and Hough line-detected images\n",
    "plt.figure(figsize=(15, 7))\n",
    "\n",
    "plt.subplot(1, 3, 1)\n",
    "plt.imshow(cv2.cvtColor(image, cv2.COLOR_BGR2RGB))\n",
    "plt.title(\"Original Image\")\n",
    "plt.axis('off')\n",
    "\n",
    "plt.subplot(1, 3, 2)\n",
    "plt.imshow(edges, cmap='gray')\n",
    "plt.title(\"Canny Edge Detection\")\n",
    "plt.axis('off')\n",
    "\n",
    "plt.subplot(1, 3, 3)\n",
    "plt.imshow(cv2.cvtColor(image_with_lines, cv2.COLOR_BGR2RGB))\n",
    "plt.title(\"Hough Line Detection\")\n",
    "plt.axis('off')\n",
    "\n",
    "plt.show()\n",
    "'''\n",
    "\n"
   ]
  },
  {
   "cell_type": "code",
   "execution_count": null,
   "id": "b99cde96",
   "metadata": {},
   "outputs": [],
   "source": [
    "on the right o"
   ]
  }
 ],
 "metadata": {
  "kernelspec": {
   "display_name": "Python 3 (ipykernel)",
   "language": "python",
   "name": "python3"
  },
  "language_info": {
   "codemirror_mode": {
    "name": "ipython",
    "version": 3
   },
   "file_extension": ".py",
   "mimetype": "text/x-python",
   "name": "python",
   "nbconvert_exporter": "python",
   "pygments_lexer": "ipython3",
   "version": "3.10.12"
  }
 },
 "nbformat": 4,
 "nbformat_minor": 5
}
